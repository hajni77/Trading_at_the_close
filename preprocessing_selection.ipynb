{
 "cells": [
  {
   "cell_type": "markdown",
   "metadata": {},
   "source": [
    "## Load dataset"
   ]
  },
  {
   "cell_type": "code",
   "execution_count": 13,
   "metadata": {},
   "outputs": [],
   "source": [
    "import numpy as np\n",
    "import pandas as pd\n",
    "import random\n",
    "import seaborn as sns\n",
    "import matplotlib.pyplot as plt"
   ]
  },
  {
   "cell_type": "code",
   "execution_count": null,
   "metadata": {},
   "outputs": [],
   "source": [
    "!pip install -q kaggle"
   ]
  },
  {
   "cell_type": "code",
   "execution_count": null,
   "metadata": {},
   "outputs": [],
   "source": [
    "# download api token from: https://www.kaggle.com/settings -> and upload here:\n",
    "from google.colab import files\n",
    "\n",
    "files.upload()"
   ]
  },
  {
   "cell_type": "code",
   "execution_count": null,
   "metadata": {},
   "outputs": [],
   "source": [
    "!mkdir ~/.kaggle\n",
    "!cp kaggle.json ~/.kaggle/\n",
    "!chmod 600 ~/.kaggle/kaggle.json\n",
    "!kaggle datasets download -d nguyentuannguyen/optiver-trading-at-the-close\n",
    "!unzip optiver-trading-at-the-close.zip"
   ]
  },
  {
   "cell_type": "code",
   "execution_count": null,
   "metadata": {},
   "outputs": [],
   "source": [
    "train_dataset = pd.read_csv('/content/optiver-trading-at-the-close/train.csv')\n",
    "train_dataset.shape"
   ]
  },
  {
   "cell_type": "markdown",
   "metadata": {},
   "source": [
    "## Local"
   ]
  },
  {
   "cell_type": "code",
   "execution_count": 14,
   "metadata": {},
   "outputs": [
    {
     "data": {
      "text/plain": [
       "(5237980, 17)"
      ]
     },
     "execution_count": 14,
     "metadata": {},
     "output_type": "execute_result"
    }
   ],
   "source": [
    "train_dataset = pd.read_csv('data/optiver-trading-at-the-close/train.csv')\n",
    "train_dataset.shape"
   ]
  },
  {
   "cell_type": "markdown",
   "metadata": {},
   "source": [
    "## Feature selection and engineering"
   ]
  },
  {
   "cell_type": "code",
   "execution_count": 15,
   "metadata": {},
   "outputs": [
    {
     "data": {
      "text/plain": [
       "(5237760, 17)"
      ]
     },
     "execution_count": 15,
     "metadata": {},
     "output_type": "execute_result"
    }
   ],
   "source": [
    "df_train = train_dataset.copy()\n",
    "\n",
    "def drop_missing_values(df):\n",
    "    # drop the missing values of wap\n",
    "    df = df.dropna(subset=['wap'])\n",
    "    return df\n",
    "# drop the missing values of wap\n",
    "df_train = drop_missing_values(df_train)\n",
    "df_train.shape\n",
    "\n",
    "\n",
    "\n"
   ]
  },
  {
   "cell_type": "markdown",
   "metadata": {},
   "source": [
    "##### keep only the features selected in \"trading_at_the_close_visualisation\"\n",
    " ['stock_id' 'date_id' 'seconds_in_bucket' 'imbalance_size'\n",
    " 'reference_price' 'matched_size' 'far_price' 'near_price' 'bid_price'\n",
    " 'bid_size' 'ask_price' 'ask_size' 'wap' 'row_id' 'date_id_week'\n",
    " 'date_id_seconds' 'total_volume' 'near_far_ratio' 'near_far_imbalance'\n",
    " 'ask_mat_ratio' 'bid_mat_ratio' 'ask_ref_ratio'\n",
    " 'imbalance_continuous_ratio' 'ask_wap_diff' 'all_prices_skew'\n",
    " 'all_sizes_skew' 'all_prices_kurt' 'all_sizes_kurt'\n",
    " 'imbalance_buy_sell_flag_cumsum' 'imbalance_buy_sell_flag_0'\n",
    " 'imbalance_buy_sell_flag_1']\n"
   ]
  },
  {
   "cell_type": "code",
   "execution_count": 16,
   "metadata": {},
   "outputs": [
    {
     "name": "stdout",
     "output_type": "stream",
     "text": [
      "CPU times: total: 1.22 s\n",
      "Wall time: 5.67 s\n"
     ]
    },
    {
     "data": {
      "text/html": [
       "<div>\n",
       "<style scoped>\n",
       "    .dataframe tbody tr th:only-of-type {\n",
       "        vertical-align: middle;\n",
       "    }\n",
       "\n",
       "    .dataframe tbody tr th {\n",
       "        vertical-align: top;\n",
       "    }\n",
       "\n",
       "    .dataframe thead th {\n",
       "        text-align: right;\n",
       "    }\n",
       "</style>\n",
       "<table border=\"1\" class=\"dataframe\">\n",
       "  <thead>\n",
       "    <tr style=\"text-align: right;\">\n",
       "      <th></th>\n",
       "      <th>stock_id</th>\n",
       "      <th>date_id</th>\n",
       "      <th>seconds_in_bucket</th>\n",
       "      <th>imbalance_size</th>\n",
       "      <th>imbalance_buy_sell_flag</th>\n",
       "      <th>reference_price</th>\n",
       "      <th>matched_size</th>\n",
       "      <th>far_price</th>\n",
       "      <th>near_price</th>\n",
       "      <th>bid_price</th>\n",
       "      <th>...</th>\n",
       "      <th>ask_ref_ratio</th>\n",
       "      <th>auction_volume</th>\n",
       "      <th>imbalance_continuous_ratio</th>\n",
       "      <th>market_activity</th>\n",
       "      <th>ask_wap_diff</th>\n",
       "      <th>imbalance_buy_sell_flag_cumsum</th>\n",
       "      <th>all_prices_skew</th>\n",
       "      <th>all_sizes_skew</th>\n",
       "      <th>all_prices_kurt</th>\n",
       "      <th>all_sizes_kurt</th>\n",
       "    </tr>\n",
       "  </thead>\n",
       "  <tbody>\n",
       "    <tr>\n",
       "      <th>5237975</th>\n",
       "      <td>195</td>\n",
       "      <td>480</td>\n",
       "      <td>540</td>\n",
       "      <td>2440722.89</td>\n",
       "      <td>-1</td>\n",
       "      <td>1.000317</td>\n",
       "      <td>28280361.74</td>\n",
       "      <td>0.999734</td>\n",
       "      <td>0.999734</td>\n",
       "      <td>1.000317</td>\n",
       "      <td>...</td>\n",
       "      <td>1.000117</td>\n",
       "      <td>30721084.63</td>\n",
       "      <td>6.931520</td>\n",
       "      <td>352268.485763</td>\n",
       "      <td>0.000106</td>\n",
       "      <td>-54</td>\n",
       "      <td>-0.881646</td>\n",
       "      <td>1.963943</td>\n",
       "      <td>-1.843661</td>\n",
       "      <td>3.871638</td>\n",
       "    </tr>\n",
       "    <tr>\n",
       "      <th>5237976</th>\n",
       "      <td>196</td>\n",
       "      <td>480</td>\n",
       "      <td>540</td>\n",
       "      <td>349510.47</td>\n",
       "      <td>-1</td>\n",
       "      <td>1.000643</td>\n",
       "      <td>9187699.11</td>\n",
       "      <td>1.000129</td>\n",
       "      <td>1.000386</td>\n",
       "      <td>1.000643</td>\n",
       "      <td>...</td>\n",
       "      <td>1.000257</td>\n",
       "      <td>9537209.58</td>\n",
       "      <td>1.170884</td>\n",
       "      <td>298717.408464</td>\n",
       "      <td>0.000081</td>\n",
       "      <td>-55</td>\n",
       "      <td>-0.775184</td>\n",
       "      <td>1.996729</td>\n",
       "      <td>-0.152383</td>\n",
       "      <td>3.989047</td>\n",
       "    </tr>\n",
       "    <tr>\n",
       "      <th>5237977</th>\n",
       "      <td>197</td>\n",
       "      <td>480</td>\n",
       "      <td>540</td>\n",
       "      <td>0.00</td>\n",
       "      <td>0</td>\n",
       "      <td>0.995789</td>\n",
       "      <td>12725436.10</td>\n",
       "      <td>0.995789</td>\n",
       "      <td>0.995789</td>\n",
       "      <td>0.995789</td>\n",
       "      <td>...</td>\n",
       "      <td>1.000094</td>\n",
       "      <td>12725436.10</td>\n",
       "      <td>0.000000</td>\n",
       "      <td>196017.056767</td>\n",
       "      <td>0.000086</td>\n",
       "      <td>-54</td>\n",
       "      <td>2.411565</td>\n",
       "      <td>1.999016</td>\n",
       "      <td>0.000000</td>\n",
       "      <td>3.996681</td>\n",
       "    </tr>\n",
       "    <tr>\n",
       "      <th>5237978</th>\n",
       "      <td>198</td>\n",
       "      <td>480</td>\n",
       "      <td>540</td>\n",
       "      <td>1000898.84</td>\n",
       "      <td>1</td>\n",
       "      <td>0.999210</td>\n",
       "      <td>94773271.05</td>\n",
       "      <td>0.999210</td>\n",
       "      <td>0.999210</td>\n",
       "      <td>0.998970</td>\n",
       "      <td>...</td>\n",
       "      <td>1.000000</td>\n",
       "      <td>95774169.89</td>\n",
       "      <td>1.258162</td>\n",
       "      <td>794866.103858</td>\n",
       "      <td>0.000202</td>\n",
       "      <td>28</td>\n",
       "      <td>-1.015717</td>\n",
       "      <td>1.999647</td>\n",
       "      <td>-1.589788</td>\n",
       "      <td>3.998828</td>\n",
       "    </tr>\n",
       "    <tr>\n",
       "      <th>5237979</th>\n",
       "      <td>199</td>\n",
       "      <td>480</td>\n",
       "      <td>540</td>\n",
       "      <td>1884285.71</td>\n",
       "      <td>-1</td>\n",
       "      <td>1.002129</td>\n",
       "      <td>24073677.32</td>\n",
       "      <td>1.000859</td>\n",
       "      <td>1.001494</td>\n",
       "      <td>1.002129</td>\n",
       "      <td>...</td>\n",
       "      <td>1.000317</td>\n",
       "      <td>25957963.03</td>\n",
       "      <td>3.424424</td>\n",
       "      <td>551515.933405</td>\n",
       "      <td>0.000173</td>\n",
       "      <td>-35</td>\n",
       "      <td>-1.250444</td>\n",
       "      <td>1.974998</td>\n",
       "      <td>0.696132</td>\n",
       "      <td>3.911662</td>\n",
       "    </tr>\n",
       "  </tbody>\n",
       "</table>\n",
       "<p>5 rows × 35 columns</p>\n",
       "</div>"
      ],
      "text/plain": [
       "         stock_id  date_id  seconds_in_bucket  imbalance_size  \\\n",
       "5237975       195      480                540      2440722.89   \n",
       "5237976       196      480                540       349510.47   \n",
       "5237977       197      480                540            0.00   \n",
       "5237978       198      480                540      1000898.84   \n",
       "5237979       199      480                540      1884285.71   \n",
       "\n",
       "         imbalance_buy_sell_flag  reference_price  matched_size  far_price  \\\n",
       "5237975                       -1         1.000317   28280361.74   0.999734   \n",
       "5237976                       -1         1.000643    9187699.11   1.000129   \n",
       "5237977                        0         0.995789   12725436.10   0.995789   \n",
       "5237978                        1         0.999210   94773271.05   0.999210   \n",
       "5237979                       -1         1.002129   24073677.32   1.000859   \n",
       "\n",
       "         near_price  bid_price  ...  ask_ref_ratio  auction_volume  \\\n",
       "5237975    0.999734   1.000317  ...       1.000117     30721084.63   \n",
       "5237976    1.000386   1.000643  ...       1.000257      9537209.58   \n",
       "5237977    0.995789   0.995789  ...       1.000094     12725436.10   \n",
       "5237978    0.999210   0.998970  ...       1.000000     95774169.89   \n",
       "5237979    1.001494   1.002129  ...       1.000317     25957963.03   \n",
       "\n",
       "         imbalance_continuous_ratio  market_activity  ask_wap_diff  \\\n",
       "5237975                    6.931520    352268.485763      0.000106   \n",
       "5237976                    1.170884    298717.408464      0.000081   \n",
       "5237977                    0.000000    196017.056767      0.000086   \n",
       "5237978                    1.258162    794866.103858      0.000202   \n",
       "5237979                    3.424424    551515.933405      0.000173   \n",
       "\n",
       "         imbalance_buy_sell_flag_cumsum all_prices_skew  all_sizes_skew  \\\n",
       "5237975                             -54       -0.881646        1.963943   \n",
       "5237976                             -55       -0.775184        1.996729   \n",
       "5237977                             -54        2.411565        1.999016   \n",
       "5237978                              28       -1.015717        1.999647   \n",
       "5237979                             -35       -1.250444        1.974998   \n",
       "\n",
       "         all_prices_kurt  all_sizes_kurt  \n",
       "5237975        -1.843661        3.871638  \n",
       "5237976        -0.152383        3.989047  \n",
       "5237977         0.000000        3.996681  \n",
       "5237978        -1.589788        3.998828  \n",
       "5237979         0.696132        3.911662  \n",
       "\n",
       "[5 rows x 35 columns]"
      ]
     },
     "execution_count": 16,
     "metadata": {},
     "output_type": "execute_result"
    }
   ],
   "source": [
    "\n",
    "\n",
    "%%time\n",
    "\n",
    "def calc_feature_single_stock(df):\n",
    "    # Feature of each stock at different time point\n",
    "    # date_id\n",
    "    df[\"date_id_week\"] = df[\"date_id\"] % 5  # Day of the week\n",
    "    df[\"date_id_seconds\"] = df[\"seconds_in_bucket\"] % 60  # Seconds\n",
    "    \n",
    "    \n",
    "    # ask bid \n",
    "\n",
    "    df['mid_price'] = (df['bid_price'] + df['ask_price'])/2\n",
    "    \n",
    "    # Volume represents the total quantity of shares that change hands between buyers and sellers.\n",
    "    df[\"total_volume\"] = df['ask_size'] + df['bid_size']\n",
    "    \n",
    "    # near_price far_price\n",
    "    df['near_far_ratio'] = df['near_price'] / df['far_price']\n",
    "    df['near_far_imbalance'] = (df['far_price'] - df['near_price']) / (df['far_price'] + df['near_price'])\n",
    "   \n",
    "    \n",
    "    #The ratio between ask/bid and matched sizes provides insights into market liquidity and order flow:\n",
    "    # A high ask-to-matched ratio suggests that there are more sellers than buyers at a given price level, \n",
    "    # potentially indicating resistance to upward price movement.\n",
    "    # Conversely, a low ratio implies stronger buying interest and potential support for price increases.\n",
    "    \n",
    "    df['ask_mat_ratio'] = df['ask_size']/df['matched_size']\n",
    "    df['bid_mat_ratio'] = df['bid_size']/df['matched_size']\n",
    "    \n",
    "    # The ratio between the ask/bid price and the reference price provides insights into market sentiment:\n",
    "    # - Above 1: If the ask/bid price is higher than the reference price, it suggests bullish sentiment. Sellers are demanding a premium.\n",
    "    # - Below 1: If the ask/bid price is lower than the reference price, it indicates bearish sentiment. Buyers are getting a discount.\n",
    "    df['ask_ref_ratio'] = df['ask_price']/df['reference_price']\n",
    "    \n",
    "    # imbalance_size matched_size\n",
    "    df['auction_volume'] = df['imbalance_size'] + df['matched_size']\n",
    "\n",
    "    # cross term \n",
    "    df[\"imbalance_continuous_ratio\"] = df['imbalance_size'] / df[\"total_volume\"]\n",
    "    # the overall level of buying and selling in financial markets\n",
    "    df['market_activity'] = df['bid_size'] * df['bid_price'] + df['ask_size'] * df['ask_price']\n",
    "    # The difference between the ask/bid price and the WAP can indicate market efficiency.\n",
    "    df['ask_wap_diff'] = df['ask_price'] - df['wap']\n",
    "    \n",
    "    # Accumulative features\n",
    "    df['imbalance_buy_sell_flag_cumsum'] =  df.groupby(['stock_id','date_id'])['imbalance_buy_sell_flag'].cumsum()\n",
    "    \n",
    "    # statistical features at different time point\n",
    "    prices = [\"reference_price\", \"far_price\", \"near_price\", \"ask_price\", \"bid_price\", \"wap\"]\n",
    "    sizes = [\"matched_size\", \"bid_size\", \"ask_size\", \"imbalance_size\"]\n",
    "    for func in [ \"skew\", \"kurt\"]:\n",
    "            df[f\"all_prices_{func}\"] = df[prices].agg(func, axis=1)\n",
    "            df[f\"all_sizes_{func}\"] = df[sizes].agg(func, axis=1)\n",
    "            \n",
    "\n",
    "    \n",
    "    \n",
    "    return df\n",
    "\n",
    "df_train = calc_feature_single_stock(df_train)\n",
    "df_train.tail()\n"
   ]
  },
  {
   "cell_type": "code",
   "execution_count": 17,
   "metadata": {},
   "outputs": [],
   "source": [
    "# make dummy from imbalance_buy_sell_flag and get dummy columns\n",
    "dummy_cols_list = ['imbalance_buy_sell_flag']\n",
    "dummy_names = []\n",
    "\n",
    "for col in dummy_cols_list:\n",
    "    dummy_df = pd.get_dummies(df_train.loc[:, col], prefix=col, drop_first=True)\n",
    "    dummy_names += dummy_df.columns.tolist()\n",
    "    # drop original column\n",
    "    df_train = df_train.drop(col, axis=1)\n",
    "    df_train = pd.concat([df_train, dummy_df], axis=1)"
   ]
  },
  {
   "cell_type": "code",
   "execution_count": 18,
   "metadata": {},
   "outputs": [],
   "source": [
    "features = ['stock_id', 'date_id', 'seconds_in_bucket', 'imbalance_size'\n",
    " ,'reference_price', 'matched_size' ,'far_price', 'near_price' ,'bid_price',\n",
    " 'bid_size', 'ask_price' ,'ask_size' ,'wap' ,'row_id', 'date_id_week',\n",
    " 'date_id_seconds', 'total_volume' ,'near_far_ratio', 'near_far_imbalance',\n",
    " 'ask_mat_ratio' ,'bid_mat_ratio', 'ask_ref_ratio',\n",
    " 'imbalance_continuous_ratio' ,'ask_wap_diff', 'all_prices_skew',\n",
    " 'all_sizes_skew' ,'all_prices_kurt', 'all_sizes_kurt',\n",
    " 'imbalance_buy_sell_flag_cumsum', 'imbalance_buy_sell_flag_0',\n",
    " 'imbalance_buy_sell_flag_1','target']"
   ]
  },
  {
   "cell_type": "code",
   "execution_count": 19,
   "metadata": {},
   "outputs": [],
   "source": [
    "df_train = df_train[features]"
   ]
  },
  {
   "cell_type": "markdown",
   "metadata": {},
   "source": [
    "Split the data"
   ]
  },
  {
   "cell_type": "code",
   "execution_count": 20,
   "metadata": {},
   "outputs": [],
   "source": [
    "from sklearn.model_selection import train_test_split\n",
    "train_df = df_train.drop(columns=['target'])\n",
    "targets = df_train['target']\n",
    "X_train, X_test, y_train, y_test = train_test_split(train_df, targets, test_size=0.2, shuffle=False)"
   ]
  },
  {
   "cell_type": "markdown",
   "metadata": {},
   "source": []
  }
 ],
 "metadata": {
  "kernelspec": {
   "display_name": "Python 3",
   "language": "python",
   "name": "python3"
  },
  "language_info": {
   "codemirror_mode": {
    "name": "ipython",
    "version": 3
   },
   "file_extension": ".py",
   "mimetype": "text/x-python",
   "name": "python",
   "nbconvert_exporter": "python",
   "pygments_lexer": "ipython3",
   "version": "3.9.0"
  }
 },
 "nbformat": 4,
 "nbformat_minor": 2
}
