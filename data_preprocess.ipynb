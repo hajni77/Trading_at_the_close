{
 "cells": [
  {
   "cell_type": "markdown",
   "metadata": {},
   "source": [
    "This file contains the preprocessing and saving the result dataframe to csv."
   ]
  },
  {
   "cell_type": "code",
   "execution_count": 1,
   "metadata": {},
   "outputs": [
    {
     "name": "stderr",
     "output_type": "stream",
     "text": [
      "C:\\Users\\User\\AppData\\Local\\Temp\\ipykernel_9904\\2023747846.py:2: DeprecationWarning: \n",
      "Pyarrow will become a required dependency of pandas in the next major release of pandas (pandas 3.0),\n",
      "(to allow more performant data types, such as the Arrow string type, and better interoperability with other libraries)\n",
      "but was not found to be installed on your system.\n",
      "If this would cause problems for you,\n",
      "please provide us feedback at https://github.com/pandas-dev/pandas/issues/54466\n",
      "        \n",
      "  import pandas as pd\n"
     ]
    }
   ],
   "source": [
    "import numpy as np\n",
    "import pandas as pd\n",
    "import random\n",
    "import seaborn as sns\n",
    "import matplotlib.pyplot as plt"
   ]
  },
  {
   "cell_type": "markdown",
   "metadata": {},
   "source": [
    "# Download data from kaggle"
   ]
  },
  {
   "cell_type": "code",
   "execution_count": null,
   "metadata": {},
   "outputs": [],
   "source": [
    "!pip install -q kaggle"
   ]
  },
  {
   "cell_type": "code",
   "execution_count": null,
   "metadata": {},
   "outputs": [],
   "source": [
    "# download api token from: https://www.kaggle.com/settings -> and upload here:\n",
    "from google.colab import files\n",
    "\n",
    "files.upload()"
   ]
  },
  {
   "cell_type": "code",
   "execution_count": null,
   "metadata": {},
   "outputs": [],
   "source": [
    "!mkdir ~/.kaggle\n",
    "!cp kaggle.json ~/.kaggle/\n",
    "!chmod 600 ~/.kaggle/kaggle.json\n",
    "!kaggle datasets download -d nguyentuannguyen/optiver-trading-at-the-close\n",
    "!unzip optiver-trading-at-the-close.zip"
   ]
  },
  {
   "cell_type": "code",
   "execution_count": null,
   "metadata": {},
   "outputs": [],
   "source": [
    "df_train = pd.read_csv('/content/optiver-trading-at-the-close/train.csv')\n",
    "df_train.shape"
   ]
  },
  {
   "cell_type": "markdown",
   "metadata": {},
   "source": [
    "# Local"
   ]
  },
  {
   "cell_type": "code",
   "execution_count": 2,
   "metadata": {},
   "outputs": [
    {
     "data": {
      "text/plain": [
       "(5237980, 17)"
      ]
     },
     "execution_count": 2,
     "metadata": {},
     "output_type": "execute_result"
    }
   ],
   "source": [
    "# Replace with your own path\n",
    "path = 'data/optiver-trading-at-the-close/train.csv'\n",
    "df_train = pd.read_csv(path)\n",
    "df_train.shape"
   ]
  },
  {
   "cell_type": "markdown",
   "metadata": {},
   "source": [
    "# Feature selection and engineering"
   ]
  },
  {
   "cell_type": "code",
   "execution_count": 3,
   "metadata": {},
   "outputs": [
    {
     "data": {
      "text/plain": [
       "stock_id                     int64\n",
       "date_id                      int64\n",
       "seconds_in_bucket            int64\n",
       "imbalance_size             float32\n",
       "imbalance_buy_sell_flag      int64\n",
       "reference_price            float32\n",
       "matched_size               float32\n",
       "far_price                  float32\n",
       "near_price                 float32\n",
       "bid_price                  float32\n",
       "bid_size                   float32\n",
       "ask_price                  float32\n",
       "ask_size                   float32\n",
       "wap                        float32\n",
       "target                     float32\n",
       "time_id                      int64\n",
       "row_id                      object\n",
       "dtype: object"
      ]
     },
     "execution_count": 3,
     "metadata": {},
     "output_type": "execute_result"
    }
   ],
   "source": [
    "# float64 type features\n",
    "columns_to_convert = ['reference_price', 'matched_size', 'far_price', 'near_price',\n",
    "                      'bid_price', 'bid_size', 'ask_price', 'ask_size',\n",
    "                      'wap', 'target', 'imbalance_size']\n",
    "# convert to float32 to save memory\n",
    "df_train[columns_to_convert] = df_train[columns_to_convert].astype('float32')\n",
    "\n",
    "df_train.dtypes"
   ]
  },
  {
   "cell_type": "markdown",
   "metadata": {},
   "source": [
    "Based on data analysis, we found highly skewed datas. Applying Quantile Transformation to follow a normal distribution and drop the original ones."
   ]
  },
  {
   "cell_type": "code",
   "execution_count": 4,
   "metadata": {},
   "outputs": [],
   "source": [
    "from sklearn.preprocessing import QuantileTransformer\n",
    "\n",
    "quantile_transformer = QuantileTransformer(output_distribution='normal', random_state=0)\n",
    "df_train['Quantile_imbalance_size'] = quantile_transformer.fit_transform(df_train['imbalance_size'].values.reshape(-1, 1)).flatten()\n",
    "df_train['Quantile_far_price'] = quantile_transformer.fit_transform(df_train['far_price'].values.reshape(-1, 1)).flatten()\n",
    "df_train['Quantile_bid_size'] = quantile_transformer.fit_transform(df_train['bid_size'].values.reshape(-1, 1)).flatten()\n",
    "df_train['Quantile_ask_size'] = quantile_transformer.fit_transform(df_train['ask_size'].values.reshape(-1, 1)).flatten()\n",
    "\n",
    "# original features\n",
    "features = ['imbalance_size', 'far_price', 'bid_size', 'ask_size']\n",
    "\n",
    "# drop features\n",
    "df_train = df_train.drop(features, axis=1)"
   ]
  },
  {
   "cell_type": "code",
   "execution_count": 13,
   "metadata": {},
   "outputs": [
    {
     "data": {
      "text/plain": [
       "stock_id                         0\n",
       "date_id                          0\n",
       "seconds_in_bucket                0\n",
       "imbalance_buy_sell_flag          0\n",
       "reference_price                220\n",
       "matched_size                   220\n",
       "near_price                 2857180\n",
       "bid_price                      220\n",
       "ask_price                      220\n",
       "wap                            220\n",
       "target                          88\n",
       "time_id                          0\n",
       "row_id                           0\n",
       "Quantile_imbalance_size        220\n",
       "Quantile_far_price         2894342\n",
       "Quantile_bid_size                0\n",
       "Quantile_ask_size                0\n",
       "dtype: int64"
      ]
     },
     "execution_count": 13,
     "metadata": {},
     "output_type": "execute_result"
    }
   ],
   "source": [
    "# check the nan values\n",
    "df_train.isnull().sum()"
   ]
  },
  {
   "cell_type": "code",
   "execution_count": 5,
   "metadata": {},
   "outputs": [
    {
     "data": {
      "text/plain": [
       "(5237760, 17)"
      ]
     },
     "execution_count": 5,
     "metadata": {},
     "output_type": "execute_result"
    }
   ],
   "source": [
    "def drop_missing_values(df):\n",
    "    # drop the missing values of wap\n",
    "    df = df.dropna(subset=['wap'])\n",
    "    return df\n",
    "# drop the missing values of wap\n",
    "df_train = drop_missing_values(df_train)\n",
    "df_train.shape"
   ]
  },
  {
   "cell_type": "markdown",
   "metadata": {},
   "source": [
    "# Create features based on research"
   ]
  },
  {
   "cell_type": "code",
   "execution_count": 6,
   "metadata": {},
   "outputs": [
    {
     "name": "stdout",
     "output_type": "stream",
     "text": [
      "CPU times: total: 2.72 s\n",
      "Wall time: 10.8 s\n"
     ]
    },
    {
     "data": {
      "text/html": [
       "<div>\n",
       "<style scoped>\n",
       "    .dataframe tbody tr th:only-of-type {\n",
       "        vertical-align: middle;\n",
       "    }\n",
       "\n",
       "    .dataframe tbody tr th {\n",
       "        vertical-align: top;\n",
       "    }\n",
       "\n",
       "    .dataframe thead th {\n",
       "        text-align: right;\n",
       "    }\n",
       "</style>\n",
       "<table border=\"1\" class=\"dataframe\">\n",
       "  <thead>\n",
       "    <tr style=\"text-align: right;\">\n",
       "      <th></th>\n",
       "      <th>stock_id</th>\n",
       "      <th>date_id</th>\n",
       "      <th>seconds_in_bucket</th>\n",
       "      <th>reference_price</th>\n",
       "      <th>matched_size</th>\n",
       "      <th>near_price</th>\n",
       "      <th>bid_price</th>\n",
       "      <th>ask_price</th>\n",
       "      <th>wap</th>\n",
       "      <th>target</th>\n",
       "      <th>...</th>\n",
       "      <th>all_prices_mean</th>\n",
       "      <th>all_sizes_mean</th>\n",
       "      <th>all_prices_std</th>\n",
       "      <th>all_sizes_std</th>\n",
       "      <th>all_prices_skew</th>\n",
       "      <th>all_sizes_skew</th>\n",
       "      <th>all_prices_kurt</th>\n",
       "      <th>all_sizes_kurt</th>\n",
       "      <th>imbalance_buy_sell_flag_0</th>\n",
       "      <th>imbalance_buy_sell_flag_1</th>\n",
       "    </tr>\n",
       "  </thead>\n",
       "  <tbody>\n",
       "    <tr>\n",
       "      <th>5237975</th>\n",
       "      <td>195</td>\n",
       "      <td>480</td>\n",
       "      <td>540</td>\n",
       "      <td>1.000317</td>\n",
       "      <td>28280362.0</td>\n",
       "      <td>0.999734</td>\n",
       "      <td>1.000317</td>\n",
       "      <td>1.000434</td>\n",
       "      <td>1.000328</td>\n",
       "      <td>2.310276</td>\n",
       "      <td>...</td>\n",
       "      <td>0.830386</td>\n",
       "      <td>7070091.00</td>\n",
       "      <td>0.416020</td>\n",
       "      <td>14140180.0</td>\n",
       "      <td>-2.449488</td>\n",
       "      <td>2.0</td>\n",
       "      <td>5.999992</td>\n",
       "      <td>4.0</td>\n",
       "      <td>False</td>\n",
       "      <td>False</td>\n",
       "    </tr>\n",
       "    <tr>\n",
       "      <th>5237976</th>\n",
       "      <td>196</td>\n",
       "      <td>480</td>\n",
       "      <td>540</td>\n",
       "      <td>1.000643</td>\n",
       "      <td>9187699.0</td>\n",
       "      <td>1.000386</td>\n",
       "      <td>1.000643</td>\n",
       "      <td>1.000900</td>\n",
       "      <td>1.000819</td>\n",
       "      <td>-8.220077</td>\n",
       "      <td>...</td>\n",
       "      <td>0.847850</td>\n",
       "      <td>2296925.50</td>\n",
       "      <td>0.374351</td>\n",
       "      <td>4593849.0</td>\n",
       "      <td>-2.449489</td>\n",
       "      <td>2.0</td>\n",
       "      <td>5.999995</td>\n",
       "      <td>4.0</td>\n",
       "      <td>False</td>\n",
       "      <td>False</td>\n",
       "    </tr>\n",
       "    <tr>\n",
       "      <th>5237977</th>\n",
       "      <td>197</td>\n",
       "      <td>480</td>\n",
       "      <td>540</td>\n",
       "      <td>0.995789</td>\n",
       "      <td>12725436.0</td>\n",
       "      <td>0.995789</td>\n",
       "      <td>0.995789</td>\n",
       "      <td>0.995883</td>\n",
       "      <td>0.995797</td>\n",
       "      <td>1.169443</td>\n",
       "      <td>...</td>\n",
       "      <td>0.705909</td>\n",
       "      <td>3181358.25</td>\n",
       "      <td>0.710108</td>\n",
       "      <td>6362718.5</td>\n",
       "      <td>-2.449490</td>\n",
       "      <td>2.0</td>\n",
       "      <td>6.000000</td>\n",
       "      <td>4.0</td>\n",
       "      <td>True</td>\n",
       "      <td>False</td>\n",
       "    </tr>\n",
       "    <tr>\n",
       "      <th>5237978</th>\n",
       "      <td>198</td>\n",
       "      <td>480</td>\n",
       "      <td>540</td>\n",
       "      <td>0.999210</td>\n",
       "      <td>94773272.0</td>\n",
       "      <td>0.999210</td>\n",
       "      <td>0.998970</td>\n",
       "      <td>0.999210</td>\n",
       "      <td>0.999008</td>\n",
       "      <td>-1.540184</td>\n",
       "      <td>...</td>\n",
       "      <td>0.809469</td>\n",
       "      <td>23693318.00</td>\n",
       "      <td>0.464552</td>\n",
       "      <td>47386636.0</td>\n",
       "      <td>-2.449490</td>\n",
       "      <td>2.0</td>\n",
       "      <td>5.999999</td>\n",
       "      <td>4.0</td>\n",
       "      <td>False</td>\n",
       "      <td>True</td>\n",
       "    </tr>\n",
       "    <tr>\n",
       "      <th>5237979</th>\n",
       "      <td>199</td>\n",
       "      <td>480</td>\n",
       "      <td>540</td>\n",
       "      <td>1.002129</td>\n",
       "      <td>24073678.0</td>\n",
       "      <td>1.001494</td>\n",
       "      <td>1.002129</td>\n",
       "      <td>1.002447</td>\n",
       "      <td>1.002274</td>\n",
       "      <td>-6.530285</td>\n",
       "      <td>...</td>\n",
       "      <td>0.882249</td>\n",
       "      <td>6018420.50</td>\n",
       "      <td>0.293562</td>\n",
       "      <td>12036838.0</td>\n",
       "      <td>-2.449483</td>\n",
       "      <td>2.0</td>\n",
       "      <td>5.999975</td>\n",
       "      <td>4.0</td>\n",
       "      <td>False</td>\n",
       "      <td>False</td>\n",
       "    </tr>\n",
       "  </tbody>\n",
       "</table>\n",
       "<p>5 rows × 46 columns</p>\n",
       "</div>"
      ],
      "text/plain": [
       "         stock_id  date_id  seconds_in_bucket  reference_price  matched_size  \\\n",
       "5237975       195      480                540         1.000317    28280362.0   \n",
       "5237976       196      480                540         1.000643     9187699.0   \n",
       "5237977       197      480                540         0.995789    12725436.0   \n",
       "5237978       198      480                540         0.999210    94773272.0   \n",
       "5237979       199      480                540         1.002129    24073678.0   \n",
       "\n",
       "         near_price  bid_price  ask_price       wap    target  ...  \\\n",
       "5237975    0.999734   1.000317   1.000434  1.000328  2.310276  ...   \n",
       "5237976    1.000386   1.000643   1.000900  1.000819 -8.220077  ...   \n",
       "5237977    0.995789   0.995789   0.995883  0.995797  1.169443  ...   \n",
       "5237978    0.999210   0.998970   0.999210  0.999008 -1.540184  ...   \n",
       "5237979    1.001494   1.002129   1.002447  1.002274 -6.530285  ...   \n",
       "\n",
       "         all_prices_mean all_sizes_mean  all_prices_std  all_sizes_std  \\\n",
       "5237975         0.830386     7070091.00        0.416020     14140180.0   \n",
       "5237976         0.847850     2296925.50        0.374351      4593849.0   \n",
       "5237977         0.705909     3181358.25        0.710108      6362718.5   \n",
       "5237978         0.809469    23693318.00        0.464552     47386636.0   \n",
       "5237979         0.882249     6018420.50        0.293562     12036838.0   \n",
       "\n",
       "         all_prices_skew  all_sizes_skew  all_prices_kurt  all_sizes_kurt  \\\n",
       "5237975        -2.449488             2.0         5.999992             4.0   \n",
       "5237976        -2.449489             2.0         5.999995             4.0   \n",
       "5237977        -2.449490             2.0         6.000000             4.0   \n",
       "5237978        -2.449490             2.0         5.999999             4.0   \n",
       "5237979        -2.449483             2.0         5.999975             4.0   \n",
       "\n",
       "         imbalance_buy_sell_flag_0  imbalance_buy_sell_flag_1  \n",
       "5237975                      False                      False  \n",
       "5237976                      False                      False  \n",
       "5237977                       True                      False  \n",
       "5237978                      False                       True  \n",
       "5237979                      False                      False  \n",
       "\n",
       "[5 rows x 46 columns]"
      ]
     },
     "execution_count": 6,
     "metadata": {},
     "output_type": "execute_result"
    }
   ],
   "source": [
    "%%time\n",
    "\n",
    "def calc_feature_single_stock(df):\n",
    "    # Feature of each stock at different time point\n",
    "    # date_id\n",
    "    df[\"date_id_week\"] = df[\"date_id\"] % 5  # Day of the week\n",
    "    df[\"date_id_seconds\"] = df[\"seconds_in_bucket\"] % 60  # Seconds\n",
    "    # volume is the sum of ask and bid size\n",
    "    df_train['volume'] = df_train['Quantile_ask_size'] + df_train['Quantile_bid_size']\n",
    "    df_train['volume_norm'] = (df_train['volume'] - df_train['volume'].mean()) / df_train['volume'].std()\n",
    "    # The difference between the ask/bid price and the WAP can indicate market efficiency.\n",
    "    df['spread'] = df['ask_price'] - df['bid_price']\n",
    "   \n",
    "    df['mid_price'] = (df['bid_price'] + df['ask_price'])/2\n",
    "    # product of imbalance size and bid-ask spread\n",
    "    df[\"price_pressure\"] = df[\"Quantile_imbalance_size\"] * (df[\"spread\"])\n",
    "    \n",
    "    # near_price far_price\n",
    "    df['near_far_ratio'] = df['near_price'] / df['Quantile_far_price']\n",
    "    df['near_far_imbalance'] = (df['Quantile_far_price'] - df['near_price']) / (df['Quantile_far_price'] + df['near_price'])\n",
    "   \n",
    "    \n",
    "    #The ratio between ask/bid and matched sizes provides insights into market liquidity and order flow:\n",
    "    # A high ask-to-matched ratio suggests that there are more sellers than buyers at a given price level, \n",
    "    # potentially indicating resistance to upward price movement.\n",
    "    # Conversely, a low ratio implies stronger buying interest and potential support for price increases.\n",
    "    \n",
    "    df['ask_mat_ratio'] = df['Quantile_ask_size']/df['matched_size']\n",
    "    df['bid_mat_ratio'] = df['Quantile_bid_size']/df['matched_size']\n",
    "    \n",
    "    # The ratio between the ask/bid price and the reference price provides insights into market sentiment:\n",
    "    # - Above 1: If the ask/bid price is higher than the reference price, it suggests bullish sentiment. Sellers are demanding a premium.\n",
    "    # - Below 1: If the ask/bid price is lower than the reference price, it indicates bearish sentiment. Buyers are getting a discount.\n",
    "    df['ask_ref_ratio'] = df['ask_price']/df['reference_price']\n",
    "    # imbalance_size matched_size\n",
    "    df['auction_volume'] = df['Quantile_imbalance_size'] + df['matched_size']\n",
    "    # relative imbalance between matched and total size\n",
    "    df[\"imbalance_ratio\"] = (df[\"Quantile_imbalance_size\"] - df[\"matched_size\"]) / (df[\"matched_size\"] + df[\"Quantile_imbalance_size\"])\n",
    "    # cross term \n",
    "    df[\"imbalance_continuous_ratio\"] = df['Quantile_imbalance_size'] / df[\"volume_norm\"]\n",
    "    # the overall level of buying and selling in financial markets\n",
    "    df['market_activity'] = df['Quantile_bid_size'] * df['bid_price'] + df['Quantile_ask_size'] * df['ask_price']\n",
    "    # The difference between the ask/bid price and the WAP can indicate market efficiency.\n",
    "    df['ask_wap_diff'] = df['ask_price'] - df['wap']\n",
    "    # Accumulative features\n",
    "    df['imbalance_buy_sell_flag_cumsum'] =  df.groupby(['stock_id','date_id'])['imbalance_buy_sell_flag'].cumsum()\n",
    "    df['rolling_std_reference_price'] = df.groupby('stock_id')['reference_price'].transform(lambda x: x.rolling(window=54).std())\n",
    "    df['vwap_reference_price'] = (df['wap'] * df['reference_price']).cumsum() / df['volume_norm'].cumsum()\n",
    "    # statistical features at different time point\n",
    "    prices = [\"reference_price\", \"Quantile_far_price\", \"near_price\", \"ask_price\", \"bid_price\", \"wap\"]\n",
    "    sizes = [\"matched_size\", \"Quantile_bid_size\", \"Quantile_ask_size\", \"Quantile_imbalance_size\"]\n",
    "    for func in [\"mean\", \"std\", \"skew\", \"kurt\"]:\n",
    "            df[f\"all_prices_{func}\"] = df[prices].agg(func, axis=1)\n",
    "            df[f\"all_sizes_{func}\"] = df[sizes].agg(func, axis=1)\n",
    "            \n",
    "    dummy_cols_list = ['imbalance_buy_sell_flag']\n",
    "    dummy_names = []\n",
    "    for col in dummy_cols_list:\n",
    "        dummy_df = pd.get_dummies(df.loc[:, col], prefix=col, drop_first=True)\n",
    "        dummy_names += dummy_df.columns.tolist()\n",
    "        # drop original column\n",
    "        df = df.drop(col, axis=1)\n",
    "        df = pd.concat([df, dummy_df], axis=1)\n",
    "    return df\n",
    "\n",
    "df_train = calc_feature_single_stock(df_train)\n",
    "df_train.tail()\n"
   ]
  },
  {
   "cell_type": "code",
   "execution_count": 7,
   "metadata": {},
   "outputs": [
    {
     "data": {
      "text/plain": [
       "target               1.000000\n",
       "ask_wap_diff         0.089569\n",
       "Quantile_ask_size    0.058385\n",
       "Quantile_bid_size   -0.060342\n",
       "Name: target, dtype: float64"
      ]
     },
     "execution_count": 7,
     "metadata": {},
     "output_type": "execute_result"
    }
   ],
   "source": [
    "# select high correlated features\n",
    "corr_matrix = df_train.corr()\n",
    "corr_features_to_target = corr_matrix[abs(corr_matrix['target']) > 0.05]['target'].sort_values(ascending=False)\n",
    "#OVERALL high correlated features\n",
    "corr_features_to_target"
   ]
  },
  {
   "cell_type": "code",
   "execution_count": 8,
   "metadata": {},
   "outputs": [],
   "source": [
    "# select columns which are highly correlated with each other\n",
    "def get_high_correlated_features(df, threshold=0.9):\n",
    "    corr_matrix = df.corr().abs()\n",
    "    upper = corr_matrix.where(np.triu(np.ones(corr_matrix.shape), k=1).astype(bool))\n",
    "    to_drop = [column for column in upper.columns if any(upper[column] > threshold)]\n",
    "    return to_drop\n",
    "\n",
    "to_drop = get_high_correlated_features(df_train, threshold=0.9)"
   ]
  },
  {
   "cell_type": "code",
   "execution_count": 20,
   "metadata": {},
   "outputs": [
    {
     "data": {
      "text/plain": [
       "['bid_price',\n",
       " 'ask_price',\n",
       " 'wap',\n",
       " 'time_id',\n",
       " 'volume_norm',\n",
       " 'mid_price',\n",
       " 'auction_volume',\n",
       " 'market_activity',\n",
       " 'all_prices_mean',\n",
       " 'all_sizes_mean',\n",
       " 'all_sizes_std',\n",
       " 'all_sizes_kurt',\n",
       " 'imbalance_buy_sell_flag_0']"
      ]
     },
     "execution_count": 20,
     "metadata": {},
     "output_type": "execute_result"
    }
   ],
   "source": [
    "to_drop"
   ]
  },
  {
   "cell_type": "code",
   "execution_count": 9,
   "metadata": {},
   "outputs": [],
   "source": [
    "# drop the highly correlated features\n",
    "df_train = df_train.drop(to_drop, axis=1)"
   ]
  },
  {
   "cell_type": "markdown",
   "metadata": {},
   "source": [
    "# Feature Selection"
   ]
  },
  {
   "cell_type": "code",
   "execution_count": 10,
   "metadata": {},
   "outputs": [
    {
     "name": "stdout",
     "output_type": "stream",
     "text": [
      "Fitting estimator with 32 features.\n",
      "Fitting estimator with 27 features.\n",
      "Fitting estimator with 22 features.\n",
      "Fitting estimator with 17 features.\n",
      "Fitting estimator with 12 features.\n",
      "Fitting estimator with 7 features.\n",
      "Fitting estimator with 2 features.\n",
      "Fitting estimator with 32 features.\n",
      "Fitting estimator with 27 features.\n",
      "Fitting estimator with 22 features.\n",
      "Fitting estimator with 17 features.\n",
      "Fitting estimator with 12 features.\n",
      "Fitting estimator with 7 features.\n",
      "Fitting estimator with 2 features.\n",
      "Fitting estimator with 32 features.\n",
      "Fitting estimator with 27 features.\n",
      "Fitting estimator with 22 features.\n",
      "Fitting estimator with 17 features.\n",
      "Fitting estimator with 12 features.\n",
      "Fitting estimator with 7 features.\n",
      "Fitting estimator with 2 features.\n",
      "Fitting estimator with 32 features.\n",
      "Fitting estimator with 27 features.\n",
      "Fitting estimator with 22 features.\n",
      "Fitting estimator with 17 features.\n",
      "Fitting estimator with 12 features.\n",
      "Fitting estimator with 7 features.\n",
      "Fitting estimator with 2 features.\n",
      "Fitting estimator with 32 features.\n",
      "Fitting estimator with 27 features.\n",
      "Fitting estimator with 22 features.\n",
      "Fitting estimator with 17 features.\n",
      "Fitting estimator with 12 features.\n",
      "Fitting estimator with 7 features.\n",
      "Fitting estimator with 2 features.\n",
      "Fitting estimator with 32 features.\n",
      "Fitting estimator with 27 features.\n",
      "Fitting estimator with 22 features.\n",
      "Fitting estimator with 17 features.\n",
      "Fitting estimator with 12 features.\n",
      "CPU times: total: 16min 14s\n",
      "Wall time: 5min 1s\n"
     ]
    }
   ],
   "source": [
    "%%time\n",
    "from sklearn.feature_selection import RFECV\n",
    "from xgboost import XGBRegressor\n",
    "from sklearn.model_selection import TimeSeriesSplit\n",
    "from sklearn.model_selection import train_test_split\n",
    "\n",
    "train_df = df_train.drop(columns=['target'])\n",
    "targets = df_train['target']\n",
    "X_train, X_test, y_train, y_test = train_test_split(train_df, targets, test_size=0.2, shuffle=False)\n",
    "\n",
    "\n",
    "seed = 42 # Set the seed\n",
    "\n",
    "# Initialize the XGBRegressor with desired hyperparameters\n",
    "bst_xgb = XGBRegressor(\n",
    "    booster = 'gbtree',\n",
    "    objective='reg:absoluteerror',\n",
    "    eval_metric = 'mae',\n",
    "    n_estimators = 50,\n",
    "    learning_rate = 0.3,\n",
    "    random_state=seed,\n",
    "    verbosity=0,\n",
    "    device='cuda'\n",
    ")\n",
    "\n",
    "tscv = TimeSeriesSplit(n_splits=5)\n",
    "selector = RFECV(bst_xgb, min_features_to_select=1, step=5, cv=tscv, verbose=3)\n",
    "selector = selector.fit(X_train, y_train)"
   ]
  },
  {
   "cell_type": "code",
   "execution_count": 11,
   "metadata": {},
   "outputs": [
    {
     "name": "stdout",
     "output_type": "stream",
     "text": [
      "7\n",
      "[False False  True False False False False False False  True  True False\n",
      " False False  True False False False False False  True False False  True\n",
      " False False False False False False False  True]\n",
      "['stock_id' 'date_id' 'seconds_in_bucket' 'reference_price' 'matched_size'\n",
      " 'near_price' 'row_id' 'Quantile_imbalance_size' 'Quantile_far_price'\n",
      " 'Quantile_bid_size' 'Quantile_ask_size' 'date_id_week' 'date_id_seconds'\n",
      " 'volume' 'spread' 'price_pressure' 'near_far_ratio' 'near_far_imbalance'\n",
      " 'ask_mat_ratio' 'bid_mat_ratio' 'ask_ref_ratio' 'imbalance_ratio'\n",
      " 'imbalance_continuous_ratio' 'ask_wap_diff'\n",
      " 'imbalance_buy_sell_flag_cumsum' 'rolling_std_reference_price'\n",
      " 'vwap_reference_price' 'all_prices_std' 'all_prices_skew'\n",
      " 'all_sizes_skew' 'all_prices_kurt' 'imbalance_buy_sell_flag_1']\n",
      "seconds_in_bucket\n",
      "Quantile_bid_size\n",
      "Quantile_ask_size\n",
      "spread\n",
      "ask_ref_ratio\n",
      "ask_wap_diff\n",
      "imbalance_buy_sell_flag_1\n"
     ]
    }
   ],
   "source": [
    "# Number of selected features\n",
    "print(selector.n_features_)\n",
    "\n",
    "# Feature names that were selected, print out the selected features\n",
    "print(selector.support_)\n",
    "print(selector.feature_names_in_)\n",
    "for i in range(len(selector.support_)):\n",
    "    if selector.support_[i]:\n",
    "        print(X_train.columns[i])\n",
    "# plot feature importance\n",
    "\n"
   ]
  },
  {
   "cell_type": "code",
   "execution_count": 12,
   "metadata": {},
   "outputs": [
    {
     "data": {
      "image/png": "[encoded data removed]",
      "text/plain": [
       "<Figure size 1000x1000 with 1 Axes>"
      ]
     },
     "metadata": {},
     "output_type": "display_data"
    }
   ],
   "source": [
    "# plot feature importance\n",
    "plt.figure(figsize=(10, 10))\n",
    "sns.barplot(x=selector.ranking_, y=X_train.columns)\n",
    "plt.show()\n",
    "\n",
    "\n",
    "\n"
   ]
  },
  {
   "cell_type": "code",
   "execution_count": 18,
   "metadata": {},
   "outputs": [
    {
     "data": {
      "text/plain": [
       "Index(['seconds_in_bucket', 'Quantile_bid_size', 'Quantile_ask_size', 'spread',\n",
       "       'ask_ref_ratio', 'ask_wap_diff', 'imbalance_buy_sell_flag_1'],\n",
       "      dtype='object')"
      ]
     },
     "execution_count": 18,
     "metadata": {},
     "output_type": "execute_result"
    }
   ],
   "source": [
    "\n",
    "selected_features = X_train.columns[selector.support_]\n",
    "\n",
    "selected_features"
   ]
  },
  {
   "cell_type": "code",
   "execution_count": 19,
   "metadata": {},
   "outputs": [],
   "source": [
    "# add the necessary features\n",
    "\n",
    "selected_features =  ['stock_id', 'date_id','target', 'seconds_in_bucket', 'Quantile_bid_size', 'Quantile_ask_size', 'spread',\n",
    "       'ask_ref_ratio', 'ask_wap_diff', 'imbalance_buy_sell_flag_1']"
   ]
  },
  {
   "cell_type": "code",
   "execution_count": 20,
   "metadata": {},
   "outputs": [],
   "source": [
    "df = df_train[selected_features]\n",
    "\n",
    "# save the selected features\n",
    "df.to_csv('selected_features.csv', index=False)"
   ]
  }
 ],
 "metadata": {
  "kernelspec": {
   "display_name": "Python 3",
   "language": "python",
   "name": "python3"
  },
  "language_info": {
   "codemirror_mode": {
    "name": "ipython",
    "version": 3
   },
   "file_extension": ".py",
   "mimetype": "text/x-python",
   "name": "python",
   "nbconvert_exporter": "python",
   "pygments_lexer": "ipython3",
   "version": "3.9.0"
  }
 },
 "nbformat": 4,
 "nbformat_minor": 2
}
